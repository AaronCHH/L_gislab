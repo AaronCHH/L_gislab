{
 "cells": [
  {
   "cell_type": "code",
   "execution_count": null,
   "metadata": {
    "collapsed": true
   },
   "outputs": [],
   "source": [
    "import sys, os\n",
    "import arcpy"
   ]
  },
  {
   "cell_type": "code",
   "execution_count": null,
   "metadata": {
    "collapsed": true
   },
   "outputs": [],
   "source": [
    "os.getcwd()"
   ]
  },
  {
   "cell_type": "code",
   "execution_count": null,
   "metadata": {
    "collapsed": true
   },
   "outputs": [],
   "source": [
    "arcpy.env.workspace = '以空載光達技術辦理河川及洪氾溢淹地區及中高海拔山區數值地形測製與研究_dem'\n",
    "rasList = arcpy.ListRasters()\n",
    "print(len(rasList))"
   ]
  },
  {
   "cell_type": "code",
   "execution_count": null,
   "metadata": {
    "collapsed": false
   },
   "outputs": [],
   "source": [
    "arcpy.env.workspace = '以空載光達技術辦理河川及洪氾溢淹地區及中高海拔山區數值地形測製與研究_dsm'\n",
    "rasList = arcpy.ListRasters()\n",
    "print(len(rasList))"
   ]
  },
  {
   "cell_type": "code",
   "execution_count": null,
   "metadata": {
    "collapsed": false
   },
   "outputs": [],
   "source": [
    "arcpy.env.workspace = '莫拉克災區LiDAR高解析度數值地形製作_99_dem'\n",
    "rasList = arcpy.ListRasters()\n",
    "print(len(rasList))"
   ]
  },
  {
   "cell_type": "code",
   "execution_count": null,
   "metadata": {
    "collapsed": true
   },
   "outputs": [],
   "source": [
    "arcpy.env.workspace = '莫拉克災區LiDAR高解析度數值地形製作_99_dsm'\n",
    "rasList = arcpy.ListRasters()\n",
    "print(len(rasList))"
   ]
  },
  {
   "cell_type": "code",
   "execution_count": null,
   "metadata": {
    "collapsed": false
   },
   "outputs": [],
   "source": [
    "arcpy.env.workspace = '莫拉克災區LiDAR高解析度數值地形製作_100_dem'\n",
    "rasList = arcpy.ListRasters()\n",
    "print(len(rasList))"
   ]
  },
  {
   "cell_type": "code",
   "execution_count": null,
   "metadata": {
    "collapsed": false
   },
   "outputs": [],
   "source": [
    "arcpy.env.workspace = '莫拉克災區LiDAR高解析度數值地形製作_100_dsm'\n",
    "rasList = arcpy.ListRasters()\n",
    "print(len(rasList))"
   ]
  }
 ],
 "metadata": {
  "kernelspec": {
   "display_name": "Python 2",
   "language": "python",
   "name": "python2"
  },
  "language_info": {
   "codemirror_mode": {
    "name": "ipython",
    "version": 2
   },
   "file_extension": ".py",
   "mimetype": "text/x-python",
   "name": "python",
   "nbconvert_exporter": "python",
   "pygments_lexer": "ipython2",
   "version": "2.7.13"
  }
 },
 "nbformat": 4,
 "nbformat_minor": 1
}
