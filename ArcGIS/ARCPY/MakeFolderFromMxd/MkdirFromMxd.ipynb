{
 "cells": [
  {
   "cell_type": "code",
   "execution_count": 8,
   "metadata": {
    "collapsed": true
   },
   "outputs": [],
   "source": [
    "import os, sys"
   ]
  },
  {
   "cell_type": "code",
   "execution_count": 9,
   "metadata": {
    "collapsed": true
   },
   "outputs": [],
   "source": [
    "import glob"
   ]
  },
  {
   "cell_type": "code",
   "execution_count": 11,
   "metadata": {
    "collapsed": false
   },
   "outputs": [],
   "source": [
    "path = \"./\"\n",
    "os.chdir(path)\n",
    "list = glob.glob('*.mxd')"
   ]
  },
  {
   "cell_type": "code",
   "execution_count": 13,
   "metadata": {
    "collapsed": false,
    "scrolled": true
   },
   "outputs": [
    {
     "name": "stdout",
     "output_type": "stream",
     "text": [
      "lidar_dem\n",
      "lidar_dsm\n",
      "Morakot_100_dem\n",
      "Morakot_100_dsm\n",
      "Morakot_99_dem\n",
      "Morakot_99_dsm\n"
     ]
    }
   ],
   "source": [
    "for item in list:\n",
    "    item = item[:-4]\n",
    "    print(item)\n",
    "    os.mkdir(item)"
   ]
  },
  {
   "cell_type": "markdown",
   "metadata": {},
   "source": [
    "## RasterToOtherFormat_sample"
   ]
  },
  {
   "cell_type": "code",
   "execution_count": null,
   "metadata": {
    "collapsed": true
   },
   "outputs": [],
   "source": [
    "# RasterToOtherFormat_sample.py\n",
    "# Description: \n",
    "#   Converts multiple rasters to another format in a batch.\n",
    "# Requirements: None\n",
    "# Author: ESRI\n",
    "# Date: Oct 20, 2005\n",
    "\n",
    "# Import system modules\n",
    "import arcgisscripting\n",
    "\n",
    "# Create the Geoprocessor object\n",
    "gp = arcgisscripting.create()\n",
    "\n",
    "try:\n",
    "    # Set local variables\n",
    "    InRaster = \"C:/testdata/seattle1.tif;C:/testdata/seattle2.tif\"\n",
    "    OutWorkspace = \"C:/testdata\"\n",
    "\n",
    "    # Process: RasterToOtherFormat_conversion (convert to IMG format)\n",
    "    gp.RasterToOtherFormat_conversion(InRaster,OutWorkspace,\"IMAGINE Image\")\n",
    "\n",
    "except:\n",
    "    # Print error message if an error occurs\n",
    "    print gp.GetMessages()\n"
   ]
  }
 ],
 "metadata": {
  "kernelspec": {
   "display_name": "Python 2",
   "language": "python",
   "name": "python2"
  },
  "language_info": {
   "codemirror_mode": {
    "name": "ipython",
    "version": 2
   },
   "file_extension": ".py",
   "mimetype": "text/x-python",
   "name": "python",
   "nbconvert_exporter": "python",
   "pygments_lexer": "ipython2",
   "version": "2.7.13"
  }
 },
 "nbformat": 4,
 "nbformat_minor": 2
}
