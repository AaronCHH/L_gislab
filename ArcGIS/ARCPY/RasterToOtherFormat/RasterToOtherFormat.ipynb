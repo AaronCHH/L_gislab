{
 "cells": [
  {
   "cell_type": "markdown",
   "metadata": {},
   "source": [
    "## Example"
   ]
  },
  {
   "cell_type": "markdown",
   "metadata": {},
   "source": [
    "```python\n",
    "##=========================\n",
    "##Raster To Other Format\n",
    "##Usage: RasterToOtherFormat_conversion Input_Rasters;Input_Rasters... Output_Workspace {TIFF | BIL | BIP \n",
    "##                                      | BMP | BSQ | ENVI DAT | GIF | GRID | IMAGINE Image | JP2000 | JPEG | PNG}\n",
    "try:\n",
    "    import arcpy\n",
    "    arcpy.env.workspace = r\"\\\\MyMachine\\PrjWorkspace\\RasGP\"\n",
    "    ##Convert Multiple Raster Dataset to FGDB\n",
    "    arcpy.RasterToOtherFormat_conversion(\"test1;test2.tif;test3.img\",\"OtherFormat.gdb\",\"\")\n",
    "    ##Load Raster Catalog\n",
    "    arcpy.RasterToOtherFormat_conversion(\"test.tif;test2.tif;test3.tif\",\"OtherFormat\",\"BIL\")\n",
    "except:\n",
    "    print \"Raster To Other Format exsample failed.\"\n",
    "    print arcpy.GetMessages()\n",
    "                    \n",
    "```"
   ]
  },
  {
   "cell_type": "markdown",
   "metadata": {},
   "source": [
    "## PT1"
   ]
  },
  {
   "cell_type": "code",
   "execution_count": 1,
   "metadata": {
    "collapsed": false
   },
   "outputs": [],
   "source": [
    "import arcpy\n",
    "arcpy.env.workspace = \"./以空載光達技術辦理河川及洪氾溢淹地區及中高海拔山區數值地形測製與研究_dem/\"\n",
    "arcpy.env.overwriteOutput = True"
   ]
  },
  {
   "cell_type": "code",
   "execution_count": 2,
   "metadata": {
    "collapsed": false
   },
   "outputs": [
    {
     "name": "stdout",
     "output_type": "stream",
     "text": [
      "8\n"
     ]
    }
   ],
   "source": [
    "rasList = arcpy.ListRasters()\n",
    "print(len(rasList))"
   ]
  },
  {
   "cell_type": "code",
   "execution_count": 3,
   "metadata": {
    "collapsed": false,
    "scrolled": true
   },
   "outputs": [
    {
     "name": "stdout",
     "output_type": "stream",
     "text": [
      "[u'95191001dem.grd', u'95191002dem.grd', u'95191003dem.grd', u'95191004dem.grd', u'95202091dem.grd', u'95202092dem.grd', u'95202093dem.grd', u'95202094dem.grd']\n"
     ]
    }
   ],
   "source": [
    "print(rasList)"
   ]
  },
  {
   "cell_type": "markdown",
   "metadata": {},
   "source": [
    "try:\n",
    "    arcpy.RasterToOtherFormat_conversion(rasList[0],\"OtherFormat\",\"TIFF\")\n",
    "except:\n",
    "    print \"Raster To Other Format exsample failed.\"\n",
    "    print arcpy.GetMessages()"
   ]
  },
  {
   "cell_type": "code",
   "execution_count": null,
   "metadata": {
    "collapsed": false
   },
   "outputs": [
    {
     "name": "stdout",
     "output_type": "stream",
     "text": [
      "processing 0th item.\n",
      "processing 1th item.\n",
      "processing 2th item.\n",
      "processing 3th item.\n",
      "processing 4th item.\n",
      "processing 5th item.\n",
      "processing 6th item.\n",
      "processing 7th item.\n",
      "all done!\n"
     ]
    }
   ],
   "source": [
    "for i in range(len(rasList)):\n",
    "    try:\n",
    "        print(\"processing {0}th item.\".format(i))\n",
    "        arcpy.RasterToOtherFormat_conversion(rasList[i],\"OtherFormat\",\"TIFF\")\n",
    "    except:\n",
    "        print \"Raster To Other Format exsample failed.\"\n",
    "        print arcpy.GetMessages()\n",
    "print(\"all done!\")        "
   ]
  },
  {
   "cell_type": "code",
   "execution_count": null,
   "metadata": {
    "collapsed": true
   },
   "outputs": [],
   "source": []
  }
 ],
 "metadata": {
  "kernelspec": {
   "display_name": "Python 2",
   "language": "python",
   "name": "python2"
  },
  "language_info": {
   "codemirror_mode": {
    "name": "ipython",
    "version": 2
   },
   "file_extension": ".py",
   "mimetype": "text/x-python",
   "name": "python",
   "nbconvert_exporter": "python",
   "pygments_lexer": "ipython2",
   "version": "2.7.13"
  }
 },
 "nbformat": 4,
 "nbformat_minor": 2
}
